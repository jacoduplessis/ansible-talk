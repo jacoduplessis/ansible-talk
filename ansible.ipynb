{
 "cells": [
  {
   "cell_type": "markdown",
   "metadata": {
    "slideshow": {
     "slide_type": "slide"
    }
   },
   "source": [
    "# Introduction to Ansible\n",
    "\n",
    "### Gaussian Engineering\n",
    "\n",
    "### Jaco du Plessis\n",
    "\n",
    "### 2019-10-18"
   ]
  },
  {
   "cell_type": "markdown",
   "metadata": {
    "slideshow": {
     "slide_type": "slide"
    }
   },
   "source": [
    "# Goals\n",
    "\n",
    "- high level introduction\n",
    "- explain concepts and terminology\n",
    "- understand the value\n",
    "- where to learn more"
   ]
  },
  {
   "cell_type": "markdown",
   "metadata": {
    "slideshow": {
     "slide_type": "slide"
    }
   },
   "source": [
    "# What is Ansible\n",
    "\n",
    "\"Ansible is an open-source software provisioning, configuration management, and application-deployment tool.\"\n",
    "\n",
    "Created by Michael DeHaan and acquired by Red Hat in 2015."
   ]
  },
  {
   "cell_type": "markdown",
   "metadata": {
    "slideshow": {
     "slide_type": "slide"
    }
   },
   "source": [
    "# Why use it\n",
    "\n",
    "- deploy on multiple hosts in parallel\n",
    "- consistency\n",
    "- idempotent configuration + retry (reliability)\n",
    "- variables and templating\n",
    "- third-party roles\n",
    "- efficiency\n",
    "- debugging\n",
    "- continuous deployment\n",
    "\n"
   ]
  },
  {
   "cell_type": "markdown",
   "metadata": {},
   "source": [
    "# When to use\n",
    "\n",
    "ssh commands -> bash script -> python script -> invoke -> ansible"
   ]
  },
  {
   "cell_type": "markdown",
   "metadata": {
    "slideshow": {
     "slide_type": "slide"
    }
   },
   "source": [
    "# How it works\n",
    "\n",
    "- access hosts using SSH\n",
    "- remote Python interpreter (can bootstrap)\n",
    "- YAML configuration\n",
    "- agentless\n",
    "- idempotent\n"
   ]
  },
  {
   "cell_type": "markdown",
   "metadata": {
    "slideshow": {
     "slide_type": "slide"
    }
   },
   "source": [
    "# Concepts and Terminology\n",
    "\n",
    "- idempotence\n",
    "- hosts\n",
    "- groups\n",
    "- modules\n",
    "- tasks\n",
    "- playbooks\n",
    "- inventory\n",
    "- roles\n",
    "- tags\n",
    "- facts\n",
    "- templates\n",
    "- vault\n",
    "- galaxy\n"
   ]
  },
  {
   "cell_type": "markdown",
   "metadata": {
    "slideshow": {
     "slide_type": "slide"
    }
   },
   "source": [
    "## idempotence\n",
    "\n",
    "Running the same action multiple times always gives the same result.\n",
    "\n",
    "- not idempotent: `increment a number`\n",
    "- idempotent: `set value to zero`"
   ]
  },
  {
   "cell_type": "markdown",
   "metadata": {
    "slideshow": {
     "slide_type": "subslide"
    }
   },
   "source": [
    "## hosts\n",
    "\n",
    "The machines on which you want playbooks to execute.\n",
    "\n",
    "Specified in inventory file.\n",
    "\n",
    "- build.gauseng.com\n",
    "- amb.gauseng.com\n",
    "- toolbox.gauseng.com\n",
    "- 127.0.0.1"
   ]
  },
  {
   "cell_type": "markdown",
   "metadata": {
    "slideshow": {
     "slide_type": "subslide"
    }
   },
   "source": [
    "## groups\n",
    "\n",
    "Collections of hosts.\n",
    "\n",
    "- db servers\n",
    "- web servers\n",
    "- app servers"
   ]
  },
  {
   "cell_type": "markdown",
   "metadata": {
    "slideshow": {
     "slide_type": "subslide"
    }
   },
   "source": [
    "## modules\n",
    "\n",
    "The \"functions\" available for execution.\n",
    "\n",
    "- `tar`\n",
    "- `pip`\n",
    "- `apt`\n",
    "- `command`\n",
    "- `systemd`\n",
    "\n",
    "Example: [apt](https://docs.ansible.com/ansible/latest/modules/apt_module.html)"
   ]
  },
  {
   "cell_type": "markdown",
   "metadata": {
    "slideshow": {
     "slide_type": "subslide"
    }
   },
   "source": [
    "## tasks\n",
    "\n",
    "A module with specified arguments and variables which is named.\n",
    "\n",
    "```\n",
    "- name: Install the package \"foo\"\n",
    "  apt:\n",
    "    name: foo\n",
    "```"
   ]
  },
  {
   "cell_type": "markdown",
   "metadata": {
    "slideshow": {
     "slide_type": "subslide"
    }
   },
   "source": [
    "## playbooks\n",
    "\n",
    "A collection of roles and/or tasks.\n",
    "\n",
    "Example: a `setup`, `deploy` and `rollback` playbook for app.\n",
    "\n"
   ]
  },
  {
   "cell_type": "markdown",
   "metadata": {
    "slideshow": {
     "slide_type": "subslide"
    }
   },
   "source": [
    "## inventory\n",
    "\n",
    "Specify variables.\n",
    "\n",
    "- per host\n",
    "- per group\n",
    "- dynamic\n"
   ]
  },
  {
   "cell_type": "markdown",
   "metadata": {
    "slideshow": {
     "slide_type": "subslide"
    }
   },
   "source": [
    "## roles\n",
    "\n",
    "A collection of tasks for a given part of infrastructure.\n",
    "\n",
    "- nginx\n",
    "- db\n",
    "- redis\n",
    "- django\n",
    "- celery"
   ]
  },
  {
   "cell_type": "markdown",
   "metadata": {
    "slideshow": {
     "slide_type": "subslide"
    }
   },
   "source": [
    "## tags\n",
    "\n",
    "Limit task execution.\n",
    "\n",
    "- \"deploy, but don't run migrations\"\n",
    "- There are multiples ways to achieve similar results in Ansible\n",
    "- Using tags vs separate playbook\n"
   ]
  },
  {
   "cell_type": "markdown",
   "metadata": {
    "slideshow": {
     "slide_type": "subslide"
    }
   },
   "source": [
    "## facts\n",
    "\n",
    "Information about the host.\n",
    "\n",
    "- OS\n",
    "- network configuration\n",
    "- hardware specs\n",
    "- used with if-logic in tasks and templates\n"
   ]
  },
  {
   "cell_type": "markdown",
   "metadata": {
    "slideshow": {
     "slide_type": "subslide"
    }
   },
   "source": [
    "## templates\n",
    "\n",
    "Jinja2 templates accepted by many modules.\n",
    "\n",
    "Used in conjuction with variables.\n",
    "\n"
   ]
  },
  {
   "cell_type": "markdown",
   "metadata": {
    "slideshow": {
     "slide_type": "subslide"
    }
   },
   "source": [
    "## vault\n",
    "\n",
    "Symetric AES256 encryption of sensitive variables.\n",
    "\n",
    "Commit fully-workable playbooks to source control.\n",
    "\n",
    "```\n",
    "the_secret: !vault |\n",
    "      $ANSIBLE_VAULT;1.1;AES256\n",
    "      62313365396662343061393464336163383764373764613633653634306231386433626436623361\n",
    "      6134333665353966363534333632666535333761666131620a663537646436643839616531643561\n",
    "      63396265333966386166373632626539326166353965363262633030333630313338646335303630\n",
    "      3438626666666137650a353638643435666633633964366338633066623234616432373231333331\n",
    "      6564\n",
    "```"
   ]
  },
  {
   "cell_type": "markdown",
   "metadata": {
    "slideshow": {
     "slide_type": "subslide"
    }
   },
   "source": [
    "## galaxy\n",
    "\n",
    "Official third-party package index for roles, playbooks and plugins.\n",
    "\n",
    "Examples\n",
    "\n",
    "- install and configure VPN\n",
    "- setup ELK stack\n"
   ]
  },
  {
   "cell_type": "markdown",
   "metadata": {
    "slideshow": {
     "slide_type": "slide"
    }
   },
   "source": [
    "# How to install\n",
    "\n",
    "- debian: `apt install ansible`\n",
    "- mac: `brew install ansible`\n",
    "- other: `pip install ansible`\n",
    "\n",
    "Configure:\n",
    "\n",
    "- `/etc/ansible/ansible.cfg`\n",
    "- `~/.ansible.cfg`\n",
    "- `./ansible.cfg`"
   ]
  },
  {
   "cell_type": "markdown",
   "metadata": {
    "slideshow": {
     "slide_type": "slide"
    }
   },
   "source": [
    "# CLI\n",
    "\n",
    "- `ansible`\n",
    "- `ansible-config`\n",
    "- `ansible-console`\n",
    "- `ansible-doc`\n",
    "- `ansible-galaxy`\n",
    "- `ansible-inventory`\n",
    "- `ansible-playbook`\n",
    "- `ansible-pull`\n",
    "- `ansible-vault`\n",
    "\n"
   ]
  },
  {
   "cell_type": "markdown",
   "metadata": {
    "slideshow": {
     "slide_type": "slide"
    }
   },
   "source": [
    "# Documentation and Resources\n",
    "\n",
    "Comprehensive and well-written documentation.\n",
    "\n",
    "- [official docs](https://docs.ansible.com)\n",
    "- [module index](https://docs.ansible.com/ansible/latest/modules/modules_by_category.html)\n",
    "- [best practices](https://docs.ansible.com/ansible/latest/user_guide/playbooks_best_practices.html)\n",
    "- [quick start video](https://www.ansible.com/resources/videos/quick-start-video)\n",
    "- \"Ansible for DevOps\" - [Jeff Geerling](https://www.jeffgeerling.com/)\n",
    "\n",
    "\n"
   ]
  },
  {
   "cell_type": "markdown",
   "metadata": {
    "slideshow": {
     "slide_type": "slide"
    }
   },
   "source": [
    "# Application at Gauseng\n",
    "\n",
    "Used for deployment of `Gaussian Analytica` and `Amandelbult Capex Project` Django applications."
   ]
  },
  {
   "cell_type": "markdown",
   "metadata": {
    "slideshow": {
     "slide_type": "slide"
    }
   },
   "source": [
    "# Practical Demo"
   ]
  },
  {
   "cell_type": "markdown",
   "metadata": {
    "slideshow": {
     "slide_type": "slide"
    }
   },
   "source": [
    "# Questions"
   ]
  }
 ],
 "metadata": {
  "kernelspec": {
   "display_name": "Python 3",
   "language": "python",
   "name": "python3"
  },
  "language_info": {
   "codemirror_mode": {
    "name": "ipython",
    "version": 3
   },
   "file_extension": ".py",
   "mimetype": "text/x-python",
   "name": "python",
   "nbconvert_exporter": "python",
   "pygments_lexer": "ipython3",
   "version": "3.7.4"
  }
 },
 "nbformat": 4,
 "nbformat_minor": 4
}
